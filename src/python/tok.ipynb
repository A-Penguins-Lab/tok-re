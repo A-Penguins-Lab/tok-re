{
 "cells": [
  {
   "cell_type": "code",
   "execution_count": 111,
   "id": "2c8ed113",
   "metadata": {},
   "outputs": [],
   "source": [
    "import unicodedata"
   ]
  },
  {
   "cell_type": "code",
   "execution_count": 112,
   "id": "1244e431",
   "metadata": {},
   "outputs": [],
   "source": [
    "with open(r'C:\\Users\\sridh\\OneDrive\\Desktop\\tok-re\\src\\data\\spear.txt', 'r') as f:\n",
    "    l = f.read()\n",
    "\n",
    "l = l.encode(\"utf-8\")\n",
    "tokens = list(map(int, l))"
   ]
  },
  {
   "cell_type": "code",
   "execution_count": 113,
   "id": "b35df3af",
   "metadata": {},
   "outputs": [],
   "source": [
    "## BPE \n",
    "    ## We iteratively build out vocab by splitting and merging\n",
    "    ## These splits and merges happen via frequencies"
   ]
  },
  {
   "cell_type": "code",
   "execution_count": null,
   "id": "b9ad0430",
   "metadata": {},
   "outputs": [],
   "source": [
    "def get_counts(text):\n",
    "    counts = {}\n",
    "\n",
    "    ## This fn has one job: constructing a bigram like frequency dict for any given text. \n",
    "    ## Whats nice here is that these counts are being acquired for adjacent bytes, so when we \n",
    "    ## try to merge it will make it easier\n",
    "\n",
    "    for el1, el2 in zip(text, text[1:]):\n",
    "        counts[(el1, el2)] = counts.get((el1, el2), 0) + 1\n",
    "    \n",
    "    return counts\n",
    "\n",
    "def merge_pass(tokens, sub_pair, new_token):\n",
    "    ## Tokens is a list of tokens (duh) \n",
    "    ## sub_pair is the top pair everytime\n",
    "    \n",
    "    new_ids = []\n",
    "    idx = 0\n",
    "\n",
    "    while idx < len(tokens):\n",
    "        if idx < len(tokens) - 1 and tokens[idx] == sub_pair[0] and tokens[idx + 1] == sub_pair[1]:\n",
    "            new_ids.append(new_token)\n",
    "\n",
    "            ## You have to skip by two than one\n",
    "            ## to prevent the second token from being added\n",
    "            idx += 2\n",
    "\n",
    "        else:\n",
    "            new_ids.append(tokens[idx])\n",
    "            idx += 1\n",
    "\n",
    "    return new_ids\n",
    "\n",
    "def bpe_pass(tokens, limit):\n",
    "    num_passes = 0\n",
    "    start_token = 256\n",
    "\n",
    "    merges = {}\n",
    "    vocab = {idx: bytes[idx] for idx in range(255)}\n",
    "\n",
    "    if len(tokens) < limit:\n",
    "        print(\"What the fuck, do it properly bruv\")\n",
    "        return \"Fuck you\"\n",
    "\n",
    "    while True:\n",
    "        counts = get_counts(tokens)\n",
    "        counts = dict(sorted(counts.items(), key=lambda item: item[1], reverse=True))\n",
    "        max_pair = max(counts.items(), key=lambda item: item[1])[0]\n",
    "\n",
    "        tokens = merge_pass(tokens, max_pair, start_token)\n",
    "        merges[max_pair] = start_token\n",
    "\n",
    "        start_token += 1\n",
    "        num_passes += 1\n",
    "        \n",
    "        if len(tokens) < limit:\n",
    "            print(\"Vocab size: \", len(tokens))\n",
    "            print(\"Num passes: \", num_passes)\n",
    "            print(\"Start token at the end: \", start_token)\n",
    "            break\n",
    "        \n",
    "    for (p0, p1), idx in merges.items():\n",
    "        vocab[idx] = vocab[p0] + vocab[p1]\n",
    "\n",
    "    return tokens, merges, vocab"
   ]
  },
  {
   "cell_type": "code",
   "execution_count": null,
   "id": "ec05b823",
   "metadata": {},
   "outputs": [
    {
     "name": "stdout",
     "output_type": "stream",
     "text": [
      "Vocab size:  124006\n",
      "Num passes:  32\n",
      "Start token at the end:  288\n"
     ]
    }
   ],
   "source": [
    "compression_ratio = 0.75 ## Should be increased\n",
    "limit = int(len(tokens) * compression_ratio)\n",
    "toks, merges, vocab = bpe_pass(tokens, limit)"
   ]
  },
  {
   "cell_type": "code",
   "execution_count": null,
   "id": "f3d92abf",
   "metadata": {},
   "outputs": [],
   "source": [
    "def encode():\n",
    "    pass\n",
    "\n",
    "def decode():\n",
    "    pass"
   ]
  },
  {
   "cell_type": "code",
   "execution_count": null,
   "id": "8be9e30e",
   "metadata": {},
   "outputs": [
    {
     "data": {
      "text/plain": [
       "161218"
      ]
     },
     "execution_count": 49,
     "metadata": {},
     "output_type": "execute_result"
    }
   ],
   "source": []
  },
  {
   "cell_type": "code",
   "execution_count": 52,
   "id": "b8735e5a",
   "metadata": {},
   "outputs": [
    {
     "data": {
      "text/plain": [
       "165371"
      ]
     },
     "execution_count": 52,
     "metadata": {},
     "output_type": "execute_result"
    }
   ],
   "source": [
    "len(tokens)"
   ]
  },
  {
   "cell_type": "code",
   "execution_count": null,
   "id": "b2e92cff",
   "metadata": {},
   "outputs": [],
   "source": []
  }
 ],
 "metadata": {
  "kernelspec": {
   "display_name": "base",
   "language": "python",
   "name": "python3"
  },
  "language_info": {
   "codemirror_mode": {
    "name": "ipython",
    "version": 3
   },
   "file_extension": ".py",
   "mimetype": "text/x-python",
   "name": "python",
   "nbconvert_exporter": "python",
   "pygments_lexer": "ipython3",
   "version": "3.9.13"
  }
 },
 "nbformat": 4,
 "nbformat_minor": 5
}
